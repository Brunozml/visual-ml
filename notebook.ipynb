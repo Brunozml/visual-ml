{
 "cells": [
  {
   "cell_type": "markdown",
   "metadata": {},
   "source": [
    "This is my first continuous optimization notebook. Lets see how it would look like "
   ]
  },
  {
   "cell_type": "code",
   "execution_count": null,
   "metadata": {},
   "outputs": [],
   "source": [
    "def grad_desc1d(f, grad_f, x0, max_steps=100, alpha=0.01):\n",
    "    x = x0\n",
    "    xs = np.zeros(max_steps+1)\n",
    "    xs[0] = x0\n",
    "    for k in range(max_steps):\n",
    "        # xold = x # for checking convergence\n",
    "        x = x - alpha * grad_f(x)\n",
    "        xs[k+1] = x\n",
    "        # STOPPING CONDITIONS\n",
    "        # if np.abs(x - x0) < tolerance: break\n",
    "        # ADAPTIVE STEP-SIZE\n",
    "#        alpha *= eta # < 1\n",
    "    return x, xs"
   ]
  },
  {
   "cell_type": "markdown",
   "metadata": {},
   "source": []
  }
 ],
 "metadata": {
  "language_info": {
   "name": "python"
  },
  "orig_nbformat": 4
 },
 "nbformat": 4,
 "nbformat_minor": 2
}
